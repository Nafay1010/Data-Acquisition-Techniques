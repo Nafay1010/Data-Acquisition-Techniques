{
 "cells": [
  {
   "cell_type": "code",
   "execution_count": null,
   "metadata": {},
   "outputs": [],
   "source": [
    "from bs4 import BeautifulSoup\n",
    "from urllib.request import Request, urlopen\n",
    "\n",
    "site= \"http://www.goibibo.com/hotels-international/hotels-in-dubai-ct/\"\n",
    "hdr = {'User-Agent': 'Mozilla/5.0'}\n",
    "req = Request(site,headers=hdr)\n",
    "page = urlopen(req)\n",
    "data = BeautifulSoup(page, 'html.parser')\n",
    "print(data)"
   ]
  },
  {
   "cell_type": "code",
   "execution_count": 4,
   "metadata": {},
   "outputs": [],
   "source": [
    "# find all the sections with specifiedd class name\n",
    "cards_data = data.find_all(\n",
    "    'div', attrs={'class', 'HotelCardstyles__OuterWrapperDiv-sc-1s80tyk-1 jAnSuz'})\n",
    "\n",
    "# cards_data"
   ]
  },
  {
   "cell_type": "code",
   "execution_count": 13,
   "metadata": {},
   "outputs": [
    {
     "name": "stdout",
     "output_type": "stream",
     "text": [
      "Total Number of Cards Found :  30\n",
      "Novotel Deira City Centre 4353\n",
      "Delta Hotels by Marriott Jumeirah Beach, Dubai 9234\n",
      "Pullman Dubai Creek City Centre 5627\n",
      "Hampton by Hilton Dubai Airport 2344\n",
      "Royal Ascot Hotel 2887\n",
      "Aravi Hotel Deira 2051\n",
      "Park Regis Kris Kin Hotel 4869\n",
      "JW Marriott Marquis Hotel Dubai 13256\n",
      "Gevora Hotel 5783\n",
      "Fortune Pearl Hotel Deira 1705\n",
      "Citymax Hotel Bur Dubai 2329\n",
      "Conrad Dubai 13123\n",
      "Emirates Grand Hotel Apartments -Near Burj Khalifa 3120\n",
      "Omega Hotel, Bur Dubai 2477\n",
      "Tulip Hotel Apartments Bur Dubai 2604\n",
      "Novotel World Trade Centre Dubai 6530\n",
      "Grand Excelsior Hotel Bur Dubai 2190\n",
      "Holiday Inn Bur Dubai Embassy District 2514\n",
      "Carlton Tower Dubai Creek 2542\n",
      "Howard Johnson by Wyndham Bur Dubai 1806\n",
      "Hilton Garden Inn Dubai Al Muraqabat(Deira) 2507\n",
      "Hyatt Place Dubai Wasl District 4654\n",
      "Raviz Center Point Hotel- Near Burjuman Mall 2592\n",
      "Carlton Downtown 3761\n",
      "Marco Polo Hotel 1980\n",
      "Hilton Garden Inn Bur Dubai Al Mina 3761\n",
      "City Seasons Towers Dubai 2886\n",
      "Arabian Courtyard Hotel & Spa- In Meena Bazaar 2537\n",
      "Orchid Vue Hotel 2925\n",
      "Howard Johnson Plaza, Al Rigga 2023\n"
     ]
    }
   ],
   "source": [
    "\n",
    "\n",
    "# total number of cards\n",
    "print('Total Number of Cards Found : ', len(cards_data))\n",
    "\n",
    "# source code of hotel cards\n",
    "#for card in cards_data:\n",
    "#    print(card)\n",
    "\n",
    "for card in cards_data:\n",
    "    hotel_name = card.find('div', attrs={'class', 'HotelCardstyles__HotelNameWrapperDiv-sc-1s80tyk-22 bwAcIn'})\n",
    "    hotel_price = card.find('div', attrs={'class', 'HotelCardstyles__CurrentPriceTextWrapper-sc-1s80tyk-39 hSNeLh'})\n",
    "    print(hotel_name.a.span.text,hotel_price.p.text)\n",
    "    \n",
    "    \n"
   ]
  },
  {
   "cell_type": "code",
   "execution_count": 20,
   "metadata": {},
   "outputs": [
    {
     "name": "stdout",
     "output_type": "stream",
     "text": [
      "                                           hotel_name room_price\n",
      "0                           Novotel Deira City Centre       4353\n",
      "1      Delta Hotels by Marriott Jumeirah Beach, Dubai       9234\n",
      "2                     Pullman Dubai Creek City Centre       5627\n",
      "3                     Hampton by Hilton Dubai Airport       2344\n",
      "4                                   Royal Ascot Hotel       2887\n",
      "5                                   Aravi Hotel Deira       2051\n",
      "6                           Park Regis Kris Kin Hotel       4869\n",
      "7                     JW Marriott Marquis Hotel Dubai      13256\n",
      "8                                        Gevora Hotel       5783\n",
      "9                           Fortune Pearl Hotel Deira       1705\n",
      "10                            Citymax Hotel Bur Dubai       2329\n",
      "11                                       Conrad Dubai      13123\n",
      "12  Emirates Grand Hotel Apartments -Near Burj Kha...       3120\n",
      "13                             Omega Hotel, Bur Dubai       2477\n",
      "14                   Tulip Hotel Apartments Bur Dubai       2604\n",
      "15                   Novotel World Trade Centre Dubai       6530\n",
      "16                    Grand Excelsior Hotel Bur Dubai       2190\n",
      "17             Holiday Inn Bur Dubai Embassy District       2514\n",
      "18                          Carlton Tower Dubai Creek       2542\n",
      "19                Howard Johnson by Wyndham Bur Dubai       1806\n",
      "20        Hilton Garden Inn Dubai Al Muraqabat(Deira)       2507\n",
      "21                    Hyatt Place Dubai Wasl District       4654\n",
      "22       Raviz Center Point Hotel- Near Burjuman Mall       2592\n",
      "23                                   Carlton Downtown       3761\n",
      "24                                   Marco Polo Hotel       1980\n",
      "25                Hilton Garden Inn Bur Dubai Al Mina       3761\n",
      "26                          City Seasons Towers Dubai       2886\n",
      "27     Arabian Courtyard Hotel & Spa- In Meena Bazaar       2537\n",
      "28                                   Orchid Vue Hotel       2925\n",
      "29                     Howard Johnson Plaza, Al Rigga       2023\n"
     ]
    }
   ],
   "source": [
    "import pandas as pd\n",
    "\n",
    "# create a list to store the data\n",
    "scraped_data = []\n",
    "\n",
    "for card in cards_data:\n",
    "\n",
    "    # initialize the dictionary\n",
    "    card_details = {}\n",
    "\n",
    "    # get the hotel name\n",
    "    hotel_name = card.find('div', attrs={'class', 'HotelCardstyles__HotelNameWrapperDiv-sc-1s80tyk-22 bwAcIn'})\n",
    "    hotel_name = hotel_name.a.span.text\n",
    "\n",
    "    # get the room price\n",
    "    room_price = card.find('div', attrs={'class', 'HotelCardstyles__CurrentPriceTextWrapper-sc-1s80tyk-39 hSNeLh'})\n",
    "    room_price = room_price.p.text\n",
    "\n",
    "    # add data to the dictionary\n",
    "    card_details['hotel_name'] = hotel_name\n",
    "    card_details['room_price'] = room_price\n",
    "\n",
    "    # append the scraped data to the list\n",
    "    scraped_data.append(card_details)\n",
    "\n",
    "# create a data frame from the list of dictionaries\n",
    "dataFrame = pd.DataFrame.from_dict(scraped_data)\n",
    "\n",
    "print(dataFrame)\n",
    "\n",
    "# save the scraped data as CSV file\n",
    "dataFrame.to_csv('C:\\\\Users\\\\Musad\\\\Desktop\\\\datascience\\\\file.csv', index=False)"
   ]
  },
  {
   "cell_type": "code",
   "execution_count": null,
   "metadata": {},
   "outputs": [],
   "source": []
  }
 ],
 "metadata": {
  "kernelspec": {
   "display_name": "Python 3.10.2 64-bit",
   "language": "python",
   "name": "python3"
  },
  "language_info": {
   "codemirror_mode": {
    "name": "ipython",
    "version": 3
   },
   "file_extension": ".py",
   "mimetype": "text/x-python",
   "name": "python",
   "nbconvert_exporter": "python",
   "pygments_lexer": "ipython3",
   "version": "3.10.2"
  },
  "vscode": {
   "interpreter": {
    "hash": "f2ccb58c476f33ba3e3aee7ac07234ef6b8217ef24ad64d2a7d4fed1a57c1cd2"
   }
  }
 },
 "nbformat": 4,
 "nbformat_minor": 2
}
