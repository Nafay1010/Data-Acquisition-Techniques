{
 "cells": [
  {
   "cell_type": "code",
   "execution_count": 1,
   "metadata": {},
   "outputs": [],
   "source": [
    "import PyPDF2"
   ]
  },
  {
   "cell_type": "markdown",
   "metadata": {},
   "source": [
    "### Extracting Meta Data"
   ]
  },
  {
   "cell_type": "code",
   "execution_count": 4,
   "metadata": {},
   "outputs": [
    {
     "name": "stdout",
     "output_type": "stream",
     "text": [
      "Number of Pages in PDF File is 1\n",
      "PDF Metadata is {'/Producer': 'pdfTeX-1.40.21', '/Author': '', '/Title': '', '/Subject': '', '/Creator': 'LaTeX with hyperref', '/Keywords': '', '/CreationDate': \"D:20211007124746+05'00'\", '/ModDate': \"D:20211007124746+05'00'\", '/Trapped': '/False', '/PTEX.Fullbanner': 'This is pdfTeX, Version 3.14159265-2.6-1.40.21 (TeX Live 2020) kpathsea version 6.3.2'}\n",
      "PDF File Author is \n",
      "PDF File Creator is LaTeX with hyperref\n"
     ]
    }
   ],
   "source": [
    "with open('Test.pdf', 'rb') as PDF_File:\n",
    "    pdf_reader = PyPDF2.PdfReader(PDF_File)\n",
    "    \n",
    "    print(f'Number of Pages in PDF File is {pdf_reader.getNumPages()}')\n",
    "\n",
    "    print(f'PDF Metadata is {pdf_reader.documentInfo}')\n",
    "\n",
    "    print(f'PDF File Author is {pdf_reader.documentInfo[\"/Author\"]}')\n",
    "\n",
    "    print(f'PDF File Creator is {pdf_reader.documentInfo[\"/Creator\"]}')\n"
   ]
  },
  {
   "cell_type": "markdown",
   "metadata": {},
   "source": [
    "### Extracting Content (Single Page)"
   ]
  },
  {
   "cell_type": "code",
   "execution_count": 5,
   "metadata": {},
   "outputs": [
    {
     "name": "stdout",
     "output_type": "stream",
     "text": [
      "NATIONAL UNIVERSITY\n",
      "OFCOMPUTER & EMERGING SCIENCES\n",
      "PESHAWAR CAMPUS\n",
      "Problem Set : Assignment 02 Semester : Fall 2021\n",
      "Points : 10\n",
      "Date Set : Oct, 2021 Due Date : See slate.\n",
      "Course : CS325 Numerical Computing Instructor : Nauman\n",
      "Take note of the assignment due date. Late submissions will be accepted until 48 hours after the deadline with a 2\n",
      "point penalty. If you have any queries, feel free to post in Slack on the course channel.\n",
      "1 Tasks\n",
      "1. Convert the real number 100.875 to IEEE-754 standardized format. Make sure you set the correct number of\n",
      "bits i.e. 32-bits in total. Show all your working in the solution. Please mention the three sections of the ﬁnal\n",
      "string of bits separately to make it easier to check.\n",
      "2. For no extra credit, try to write a converter for this using Python code.\n",
      "2 Submission\n",
      "1. Submit your assignment fo Slate. Assignments submitted through another medium cannot be accepted.\n",
      "2.Important: Make sure you submit a PDF ﬁle. No other format will be accepted!\n",
      "CS325 Numerical Computing (Fall 2021 - Assignment 02) Page 1 of 1\n"
     ]
    }
   ],
   "source": [
    "with open('Test.pdf', 'rb') as PDF_File:\n",
    "    pdf_reader = PyPDF2.PdfReader(PDF_File)\n",
    "\n",
    "    pdf_page = pdf_reader.getPage(0)\n",
    "    print(pdf_page.extract_text())\n"
   ]
  },
  {
   "cell_type": "markdown",
   "metadata": {},
   "source": [
    "### Extracting Text from Multiple Pages"
   ]
  },
  {
   "cell_type": "code",
   "execution_count": 10,
   "metadata": {},
   "outputs": [
    {
     "name": "stdout",
     "output_type": "stream",
     "text": [
      "3\n",
      "NATIONAL UNIVERSITY\n",
      "OFCOMPUTER & EMERGING SCIENCES\n",
      "PESHAWAR CAMPUS\n",
      "Problem Set : Assignment 01 Semester : Fall 2021\n",
      "Points : 10\n",
      "Date Set : Sep 20, 2021 Due Date : See Slate\n",
      "Course : CS220 Operating Systems Instructor : Nauman\n",
      "Take note of the assignment due date. Late submissions will be accepted until 48 hours after the deadline with a 2\n",
      "point penalty. If you have any queries, feel free to post in Slack.\n",
      "Please read the whole PDF before starting any of the tasks.\n",
      "1 Tasks\n",
      "The objective of this assignment is to ﬁgure out exactly how fast the new system call instructions are compared to\n",
      "the old method. Make sure you have a 64-bit POSIX-compliant operating system installed on your machine.\n",
      "1. Write an assembly program with the following code and name it hello.asm . This program simply uses the int\n",
      "instruction 500,000 times to write the dot character on the console.\n",
      "2. Compile the program using the command:\n",
      "nasm -f elf64 hello.asm\n",
      "Note: If you don’t have nasm installed, you can issue the following command to install it.\n",
      "sudo apt install nasm\n",
      "CS220 Operating Systems (Fall 2021 - Assignment 01) Page 1 of 3\n",
      "Also issue the following if you get an error on the ldcommand below:\n",
      "sudo apt install build-essential\n",
      "3. Link the object ﬁle using the following command:\n",
      "ld -s -o hello hello.o\n",
      "4. Run the new executable:\n",
      "./hello\n",
      "5. As you will see, this will keep going for a while since 500,000 dots are going to take a while. We’re only\n",
      "interested in seeing how long it takes to actually issue all the interrupts. So, modify the execution command\n",
      "above to the following:\n",
      "time ./hello > /dev/null\n",
      "You don’t have to understand how this command works but the summary is: it uses the time utility to provide\n",
      "precise statistics of how long the command takes and the ﬁnal part ensures that any output produced by the\n",
      "command is essentially ignored. (You may cover this in detail in the lab or course later).\n",
      "6. Now create another assembly ﬁle and name it hello2.asm . Put the following content in it:\n",
      "As you can see, this is the same logic but instead of the intinstruction, we are using the syscall instruction\n",
      "which is the 64-bit equivalent of the 32-bit sysenter command you have studied. Rest of the logic should be\n",
      "self-evident.\n",
      "Compile both of the ﬁles and link them using the following commands:\n",
      "7. You can go ahead and compile and run this code as before. However, for the sake of our original problem of\n",
      "ﬁnding out which one of these two is the faster one, you are provided with a runner ﬁle. This is runner.sh .\n",
      "You may look at the contents of the ﬁle.\n",
      "The purpose of the runner is to run hello andhello2 one by one. This pair is executed 50 times and the\n",
      "results of execution times of each are saved in hello.txt andhello2.txt respectively.\n",
      "Make sure you have runner.sh saved in the same directory as your assembly ﬁles and you are in the same\n",
      "working directory. First, you need to make runner executable:\n",
      "chmod +x runner.sh\n",
      "CS220 Operating Systems (Fall 2021 - Assignment 01) Page 2 of 3\n",
      "After that, execute it:\n",
      "./runner.sh\n",
      "This should take a while but after it is done, you should have the two text ﬁles in the current working directory.\n",
      "The contents of these directories are times for each individual run. A sample looks like this:\n",
      "real 0m0.553s\n",
      "user 0m0.242s\n",
      "sys 0m0.335s\n",
      "We are interested in the user times. For each of the ﬁles, you need to calculate the average of the user time\n",
      "taken across the 50 experiments.\n",
      "2 Submission\n",
      "Provide screenshots of everything you have done in one PDF ﬁle. Other formats will not be accepted and you will\n",
      "get no credit if you provide another format.\n",
      "At the top of the PDF , clearly provide the following statistics:\n",
      "Number of experiments run: N =\n",
      "Average ‘user time’ for hello (int-based calls): I =\n",
      "Average ‘user time’ for hello2 (syscall-based calls): S =\n",
      "Percentage speedup: (I-S)*100/I =\n",
      "You may use any method /tool/software you chose to calculate the averages but you need to show your working.\n",
      "Submit the assignment of Slate. No other medium of submission is acceptable.\n",
      "Note : Some points to consider about this assignment are: why did we issue 500k syscalls? Why not less or more?\n",
      "Also, why did we run the experiment 50 times? Finally, why did we have to interleave hello and hello2. Why not\n",
      "run hello 50 times ﬁrst and then hello2 the same number of times?\n",
      "Answers to these are not a part of the assignment but you should consider them nonetheless.\n",
      "CS220 Operating Systems (Fall 2021 - Assignment 01) Page 3 of 3\n"
     ]
    }
   ],
   "source": [
    "with open('Test2.pdf', 'rb') as PDF_File:\n",
    "    pdf_reader = PyPDF2.PdfReader(PDF_File)\n",
    "\n",
    "    #Getting a specific page\n",
    "    # pdf_page_0 = pdf_reader.getPage(0)\n",
    "    # print(pdf_page.extract_text())\n",
    "\n",
    "    #No. of pages in the whole doc.\n",
    "    # print(pdf_reader.getNumPages())\n",
    "\n",
    "    for i in range(pdf_reader.getNumPages()):\n",
    "        All_Text = pdf_reader.getPage(i)\n",
    "        print(All_Text.extract_text())"
   ]
  },
  {
   "cell_type": "code",
   "execution_count": null,
   "metadata": {},
   "outputs": [],
   "source": []
  }
 ],
 "metadata": {
  "kernelspec": {
   "display_name": "Python 3.8.10 64-bit",
   "language": "python",
   "name": "python3"
  },
  "language_info": {
   "codemirror_mode": {
    "name": "ipython",
    "version": 3
   },
   "file_extension": ".py",
   "mimetype": "text/x-python",
   "name": "python",
   "nbconvert_exporter": "python",
   "pygments_lexer": "ipython3",
   "version": "3.8.10"
  },
  "orig_nbformat": 4,
  "vscode": {
   "interpreter": {
    "hash": "916dbcbb3f70747c44a77c7bcd40155683ae19c65e1c03b4aa3499c5328201f1"
   }
  }
 },
 "nbformat": 4,
 "nbformat_minor": 2
}
